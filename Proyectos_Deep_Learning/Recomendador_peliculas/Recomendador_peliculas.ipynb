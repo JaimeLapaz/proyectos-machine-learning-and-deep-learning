{
 "cells": [
  {
   "cell_type": "markdown",
   "metadata": {},
   "source": [
    "# Planteamiento del proyecto\n",
    "\n",
    "Tenemos un conjunto de datos que contiene sinopsis de casi 35 mil películas escrapeadas de la Wikipedia. Queremos que,dado el título de una película, te recomiende otras basadas en su sinopsis.\n",
    "\n",
    "El dataset a utilizar es el que aparece en la carpeta: [Wiki movie](./wiki_movie_plots_deduped.csv)\n",
    "\n",
    "Los objetivos a cumplir son los siguientes:\n",
    "\n",
    "1. **Preprocesamiento de datos**\n",
    "2. **Representación vectorial del texto**\n",
    "3. **Medición de la similitud**\n",
    "4. **Desarrollo del sistema de recomendación**\n",
    "5. **Evaluación del sistema de recomendación**"
   ]
  },
  {
   "cell_type": "markdown",
   "metadata": {},
   "source": [
    "## 1. **Preprocesamiento de datos:**\n",
    "   - Limpiar y preparar el conjunto de datos que contiene las sinopsis de las películas.\n",
    "   - Realizar la tokenización y eliminación de palabras irrelevantes (stopwords).\n",
    "   - Normalizar el texto (por ejemplo, convertirlo a minúsculas, eliminar caracteres especiales, etc.).\n",
    "   - Posible lematización o stemming para reducir las palabras a su raíz."
   ]
  },
  {
   "cell_type": "code",
   "execution_count": 3,
   "metadata": {},
   "outputs": [
    {
     "data": {
      "text/html": [
       "<div>\n",
       "<style scoped>\n",
       "    .dataframe tbody tr th:only-of-type {\n",
       "        vertical-align: middle;\n",
       "    }\n",
       "\n",
       "    .dataframe tbody tr th {\n",
       "        vertical-align: top;\n",
       "    }\n",
       "\n",
       "    .dataframe thead th {\n",
       "        text-align: right;\n",
       "    }\n",
       "</style>\n",
       "<table border=\"1\" class=\"dataframe\">\n",
       "  <thead>\n",
       "    <tr style=\"text-align: right;\">\n",
       "      <th></th>\n",
       "      <th>Release Year</th>\n",
       "      <th>Title</th>\n",
       "      <th>Origin/Ethnicity</th>\n",
       "      <th>Director</th>\n",
       "      <th>Cast</th>\n",
       "      <th>Genre</th>\n",
       "      <th>Wiki Page</th>\n",
       "      <th>Plot</th>\n",
       "    </tr>\n",
       "  </thead>\n",
       "  <tbody>\n",
       "    <tr>\n",
       "      <th>0</th>\n",
       "      <td>1901</td>\n",
       "      <td>Kansas Saloon Smashers</td>\n",
       "      <td>American</td>\n",
       "      <td>Unknown</td>\n",
       "      <td>NaN</td>\n",
       "      <td>unknown</td>\n",
       "      <td>https://en.wikipedia.org/wiki/Kansas_Saloon_Smashers</td>\n",
       "      <td>A bartender is working at a saloon, serving drinks to customers. After he fills a stereotypically Irish man's bucket with beer, Carrie Nation and her followers burst inside. They assault the Irish man, pulling his hat over his eyes and then dumping the beer over his head. The group then begin wrecking the bar, smashing the fixtures, mirrors, and breaking the cash register. The bartender then sprays seltzer water in Nation's face before a group of policemen appear and order everybody to leave.[1]</td>\n",
       "    </tr>\n",
       "    <tr>\n",
       "      <th>1</th>\n",
       "      <td>1901</td>\n",
       "      <td>Love by the Light of the Moon</td>\n",
       "      <td>American</td>\n",
       "      <td>Unknown</td>\n",
       "      <td>NaN</td>\n",
       "      <td>unknown</td>\n",
       "      <td>https://en.wikipedia.org/wiki/Love_by_the_Light_of_the_Moon</td>\n",
       "      <td>The moon, painted with a smiling face hangs over a park at night. A young couple walking past a fence learn on a railing and look up. The moon smiles. They embrace, and the moon's smile gets bigger. They then sit down on a bench by a tree. The moon's view is blocked, causing him to frown. In the last scene, the man fans the woman with his hat because the moon has left the sky and is perched over her shoulder to see everything better.</td>\n",
       "    </tr>\n",
       "    <tr>\n",
       "      <th>2</th>\n",
       "      <td>1901</td>\n",
       "      <td>The Martyred Presidents</td>\n",
       "      <td>American</td>\n",
       "      <td>Unknown</td>\n",
       "      <td>NaN</td>\n",
       "      <td>unknown</td>\n",
       "      <td>https://en.wikipedia.org/wiki/The_Martyred_Presidents</td>\n",
       "      <td>The film, just over a minute long, is composed of two shots. In the first, a girl sits at the base of an altar or tomb, her face hidden from the camera. At the center of the altar, a viewing portal displays the portraits of three U.S. Presidents—Abraham Lincoln, James A. Garfield, and William McKinley—each victims of assassination.\\r\\nIn the second shot, which runs just over eight seconds long, an assassin kneels feet of Lady Justice.</td>\n",
       "    </tr>\n",
       "    <tr>\n",
       "      <th>3</th>\n",
       "      <td>1901</td>\n",
       "      <td>Terrible Teddy, the Grizzly King</td>\n",
       "      <td>American</td>\n",
       "      <td>Unknown</td>\n",
       "      <td>NaN</td>\n",
       "      <td>unknown</td>\n",
       "      <td>https://en.wikipedia.org/wiki/Terrible_Teddy,_the_Grizzly_King</td>\n",
       "      <td>Lasting just 61 seconds and consisting of two shots, the first shot is set in a wood during winter. The actor representing then vice-president Theodore Roosevelt enthusiastically hurries down a hillside towards a tree in the foreground. He falls once, but rights himself and cocks his rifle. Two other men, bearing signs reading \"His Photographer\" and \"His Press Agent\" respectively, follow him into the shot; the photographer sets up his camera. \"Teddy\" aims his rifle upward at the tree and fells what appears to be a common house cat, which he then proceeds to stab. \"Teddy\" holds his prize aloft, and the press agent takes notes. The second shot is taken in a slightly different part of the wood, on a path. \"Teddy\" rides the path on his horse towards the camera and out to the left of the shot, followed closely by the press agent and photographer, still dutifully holding their signs.</td>\n",
       "    </tr>\n",
       "    <tr>\n",
       "      <th>4</th>\n",
       "      <td>1902</td>\n",
       "      <td>Jack and the Beanstalk</td>\n",
       "      <td>American</td>\n",
       "      <td>George S. Fleming, Edwin S. Porter</td>\n",
       "      <td>NaN</td>\n",
       "      <td>unknown</td>\n",
       "      <td>https://en.wikipedia.org/wiki/Jack_and_the_Beanstalk_(1902_film)</td>\n",
       "      <td>The earliest known adaptation of the classic fairytale, this films shows Jack trading his cow for the beans, his mother forcing him to drop them in the front yard, and beig forced upstairs. As he sleeps, Jack is visited by a fairy who shows him glimpses of what will await him when he ascends the bean stalk. In this version, Jack is the son of a deposed king. When Jack wakes up, he finds the beanstalk has grown and he climbs to the top where he enters the giant's home. The giant finds Jack, who narrowly escapes. The giant chases Jack down the bean stalk, but Jack is able to cut it down before the giant can get to safety. He falls and is killed as Jack celebrates. The fairy then reveals that Jack may return home as a prince.</td>\n",
       "    </tr>\n",
       "  </tbody>\n",
       "</table>\n",
       "</div>"
      ],
      "text/plain": [
       "   Release Year                             Title Origin/Ethnicity  \\\n",
       "0          1901            Kansas Saloon Smashers         American   \n",
       "1          1901     Love by the Light of the Moon         American   \n",
       "2          1901           The Martyred Presidents         American   \n",
       "3          1901  Terrible Teddy, the Grizzly King         American   \n",
       "4          1902            Jack and the Beanstalk         American   \n",
       "\n",
       "                             Director Cast    Genre  \\\n",
       "0                             Unknown  NaN  unknown   \n",
       "1                             Unknown  NaN  unknown   \n",
       "2                             Unknown  NaN  unknown   \n",
       "3                             Unknown  NaN  unknown   \n",
       "4  George S. Fleming, Edwin S. Porter  NaN  unknown   \n",
       "\n",
       "                                                          Wiki Page  \\\n",
       "0              https://en.wikipedia.org/wiki/Kansas_Saloon_Smashers   \n",
       "1       https://en.wikipedia.org/wiki/Love_by_the_Light_of_the_Moon   \n",
       "2             https://en.wikipedia.org/wiki/The_Martyred_Presidents   \n",
       "3    https://en.wikipedia.org/wiki/Terrible_Teddy,_the_Grizzly_King   \n",
       "4  https://en.wikipedia.org/wiki/Jack_and_the_Beanstalk_(1902_film)   \n",
       "\n",
       "                                                                                                                                                                                                                                                                                                                                                                                                                                                                                                                                                                                                                                                                                                                                                                                                                                                                                                                         Plot  \n",
       "0                                                                                                                                                                                                                                                                                                                                                                                                        A bartender is working at a saloon, serving drinks to customers. After he fills a stereotypically Irish man's bucket with beer, Carrie Nation and her followers burst inside. They assault the Irish man, pulling his hat over his eyes and then dumping the beer over his head. The group then begin wrecking the bar, smashing the fixtures, mirrors, and breaking the cash register. The bartender then sprays seltzer water in Nation's face before a group of policemen appear and order everybody to leave.[1]  \n",
       "1                                                                                                                                                                                                                                                                                                                                                                                                                                                                       The moon, painted with a smiling face hangs over a park at night. A young couple walking past a fence learn on a railing and look up. The moon smiles. They embrace, and the moon's smile gets bigger. They then sit down on a bench by a tree. The moon's view is blocked, causing him to frown. In the last scene, the man fans the woman with his hat because the moon has left the sky and is perched over her shoulder to see everything better.  \n",
       "2                                                                                                                                                                                                                                                                                                                                                                                                                                                                      The film, just over a minute long, is composed of two shots. In the first, a girl sits at the base of an altar or tomb, her face hidden from the camera. At the center of the altar, a viewing portal displays the portraits of three U.S. Presidents—Abraham Lincoln, James A. Garfield, and William McKinley—each victims of assassination.\\r\\nIn the second shot, which runs just over eight seconds long, an assassin kneels feet of Lady Justice.  \n",
       "3  Lasting just 61 seconds and consisting of two shots, the first shot is set in a wood during winter. The actor representing then vice-president Theodore Roosevelt enthusiastically hurries down a hillside towards a tree in the foreground. He falls once, but rights himself and cocks his rifle. Two other men, bearing signs reading \"His Photographer\" and \"His Press Agent\" respectively, follow him into the shot; the photographer sets up his camera. \"Teddy\" aims his rifle upward at the tree and fells what appears to be a common house cat, which he then proceeds to stab. \"Teddy\" holds his prize aloft, and the press agent takes notes. The second shot is taken in a slightly different part of the wood, on a path. \"Teddy\" rides the path on his horse towards the camera and out to the left of the shot, followed closely by the press agent and photographer, still dutifully holding their signs.  \n",
       "4                                                                                                                                                                The earliest known adaptation of the classic fairytale, this films shows Jack trading his cow for the beans, his mother forcing him to drop them in the front yard, and beig forced upstairs. As he sleeps, Jack is visited by a fairy who shows him glimpses of what will await him when he ascends the bean stalk. In this version, Jack is the son of a deposed king. When Jack wakes up, he finds the beanstalk has grown and he climbs to the top where he enters the giant's home. The giant finds Jack, who narrowly escapes. The giant chases Jack down the bean stalk, but Jack is able to cut it down before the giant can get to safety. He falls and is killed as Jack celebrates. The fairy then reveals that Jack may return home as a prince.  "
      ]
     },
     "execution_count": 3,
     "metadata": {},
     "output_type": "execute_result"
    }
   ],
   "source": [
    "import pandas as pd\n",
    "pd.set_option('display.max_colwidth', None)\n",
    "\n",
    "#Cargar datos\n",
    "data_films = pd.read_csv('wiki_movie_plots_deduped.csv')\n",
    "data_films.head()"
   ]
  },
  {
   "cell_type": "markdown",
   "metadata": {},
   "source": [
    "Como en este ejercicios queremos hacer recomendaciones de películas en base a la sinopsis, vamos a quitar todas las variablees excepto '**Title**' y '**Plot**'."
   ]
  },
  {
   "cell_type": "code",
   "execution_count": 4,
   "metadata": {},
   "outputs": [
    {
     "data": {
      "text/html": [
       "<div>\n",
       "<style scoped>\n",
       "    .dataframe tbody tr th:only-of-type {\n",
       "        vertical-align: middle;\n",
       "    }\n",
       "\n",
       "    .dataframe tbody tr th {\n",
       "        vertical-align: top;\n",
       "    }\n",
       "\n",
       "    .dataframe thead th {\n",
       "        text-align: right;\n",
       "    }\n",
       "</style>\n",
       "<table border=\"1\" class=\"dataframe\">\n",
       "  <thead>\n",
       "    <tr style=\"text-align: right;\">\n",
       "      <th></th>\n",
       "      <th>Title</th>\n",
       "      <th>Plot</th>\n",
       "    </tr>\n",
       "  </thead>\n",
       "  <tbody>\n",
       "    <tr>\n",
       "      <th>0</th>\n",
       "      <td>Kansas Saloon Smashers</td>\n",
       "      <td>A bartender is working at a saloon, serving drinks to customers. After he fills a stereotypically Irish man's bucket with beer, Carrie Nation and her followers burst inside. They assault the Irish man, pulling his hat over his eyes and then dumping the beer over his head. The group then begin wrecking the bar, smashing the fixtures, mirrors, and breaking the cash register. The bartender then sprays seltzer water in Nation's face before a group of policemen appear and order everybody to leave.[1]</td>\n",
       "    </tr>\n",
       "    <tr>\n",
       "      <th>1</th>\n",
       "      <td>Love by the Light of the Moon</td>\n",
       "      <td>The moon, painted with a smiling face hangs over a park at night. A young couple walking past a fence learn on a railing and look up. The moon smiles. They embrace, and the moon's smile gets bigger. They then sit down on a bench by a tree. The moon's view is blocked, causing him to frown. In the last scene, the man fans the woman with his hat because the moon has left the sky and is perched over her shoulder to see everything better.</td>\n",
       "    </tr>\n",
       "    <tr>\n",
       "      <th>2</th>\n",
       "      <td>The Martyred Presidents</td>\n",
       "      <td>The film, just over a minute long, is composed of two shots. In the first, a girl sits at the base of an altar or tomb, her face hidden from the camera. At the center of the altar, a viewing portal displays the portraits of three U.S. Presidents—Abraham Lincoln, James A. Garfield, and William McKinley—each victims of assassination.\\r\\nIn the second shot, which runs just over eight seconds long, an assassin kneels feet of Lady Justice.</td>\n",
       "    </tr>\n",
       "    <tr>\n",
       "      <th>3</th>\n",
       "      <td>Terrible Teddy, the Grizzly King</td>\n",
       "      <td>Lasting just 61 seconds and consisting of two shots, the first shot is set in a wood during winter. The actor representing then vice-president Theodore Roosevelt enthusiastically hurries down a hillside towards a tree in the foreground. He falls once, but rights himself and cocks his rifle. Two other men, bearing signs reading \"His Photographer\" and \"His Press Agent\" respectively, follow him into the shot; the photographer sets up his camera. \"Teddy\" aims his rifle upward at the tree and fells what appears to be a common house cat, which he then proceeds to stab. \"Teddy\" holds his prize aloft, and the press agent takes notes. The second shot is taken in a slightly different part of the wood, on a path. \"Teddy\" rides the path on his horse towards the camera and out to the left of the shot, followed closely by the press agent and photographer, still dutifully holding their signs.</td>\n",
       "    </tr>\n",
       "    <tr>\n",
       "      <th>4</th>\n",
       "      <td>Jack and the Beanstalk</td>\n",
       "      <td>The earliest known adaptation of the classic fairytale, this films shows Jack trading his cow for the beans, his mother forcing him to drop them in the front yard, and beig forced upstairs. As he sleeps, Jack is visited by a fairy who shows him glimpses of what will await him when he ascends the bean stalk. In this version, Jack is the son of a deposed king. When Jack wakes up, he finds the beanstalk has grown and he climbs to the top where he enters the giant's home. The giant finds Jack, who narrowly escapes. The giant chases Jack down the bean stalk, but Jack is able to cut it down before the giant can get to safety. He falls and is killed as Jack celebrates. The fairy then reveals that Jack may return home as a prince.</td>\n",
       "    </tr>\n",
       "  </tbody>\n",
       "</table>\n",
       "</div>"
      ],
      "text/plain": [
       "                              Title  \\\n",
       "0            Kansas Saloon Smashers   \n",
       "1     Love by the Light of the Moon   \n",
       "2           The Martyred Presidents   \n",
       "3  Terrible Teddy, the Grizzly King   \n",
       "4            Jack and the Beanstalk   \n",
       "\n",
       "                                                                                                                                                                                                                                                                                                                                                                                                                                                                                                                                                                                                                                                                                                                                                                                                                                                                                                                         Plot  \n",
       "0                                                                                                                                                                                                                                                                                                                                                                                                        A bartender is working at a saloon, serving drinks to customers. After he fills a stereotypically Irish man's bucket with beer, Carrie Nation and her followers burst inside. They assault the Irish man, pulling his hat over his eyes and then dumping the beer over his head. The group then begin wrecking the bar, smashing the fixtures, mirrors, and breaking the cash register. The bartender then sprays seltzer water in Nation's face before a group of policemen appear and order everybody to leave.[1]  \n",
       "1                                                                                                                                                                                                                                                                                                                                                                                                                                                                       The moon, painted with a smiling face hangs over a park at night. A young couple walking past a fence learn on a railing and look up. The moon smiles. They embrace, and the moon's smile gets bigger. They then sit down on a bench by a tree. The moon's view is blocked, causing him to frown. In the last scene, the man fans the woman with his hat because the moon has left the sky and is perched over her shoulder to see everything better.  \n",
       "2                                                                                                                                                                                                                                                                                                                                                                                                                                                                      The film, just over a minute long, is composed of two shots. In the first, a girl sits at the base of an altar or tomb, her face hidden from the camera. At the center of the altar, a viewing portal displays the portraits of three U.S. Presidents—Abraham Lincoln, James A. Garfield, and William McKinley—each victims of assassination.\\r\\nIn the second shot, which runs just over eight seconds long, an assassin kneels feet of Lady Justice.  \n",
       "3  Lasting just 61 seconds and consisting of two shots, the first shot is set in a wood during winter. The actor representing then vice-president Theodore Roosevelt enthusiastically hurries down a hillside towards a tree in the foreground. He falls once, but rights himself and cocks his rifle. Two other men, bearing signs reading \"His Photographer\" and \"His Press Agent\" respectively, follow him into the shot; the photographer sets up his camera. \"Teddy\" aims his rifle upward at the tree and fells what appears to be a common house cat, which he then proceeds to stab. \"Teddy\" holds his prize aloft, and the press agent takes notes. The second shot is taken in a slightly different part of the wood, on a path. \"Teddy\" rides the path on his horse towards the camera and out to the left of the shot, followed closely by the press agent and photographer, still dutifully holding their signs.  \n",
       "4                                                                                                                                                                The earliest known adaptation of the classic fairytale, this films shows Jack trading his cow for the beans, his mother forcing him to drop them in the front yard, and beig forced upstairs. As he sleeps, Jack is visited by a fairy who shows him glimpses of what will await him when he ascends the bean stalk. In this version, Jack is the son of a deposed king. When Jack wakes up, he finds the beanstalk has grown and he climbs to the top where he enters the giant's home. The giant finds Jack, who narrowly escapes. The giant chases Jack down the bean stalk, but Jack is able to cut it down before the giant can get to safety. He falls and is killed as Jack celebrates. The fairy then reveals that Jack may return home as a prince.  "
      ]
     },
     "execution_count": 4,
     "metadata": {},
     "output_type": "execute_result"
    }
   ],
   "source": [
    "#Eliminamos las columnas que no nos interesan\n",
    "data_films = data_films.drop(columns=['Release Year', 'Origin/Ethnicity', 'Director', 'Cast', 'Genre', 'Wiki Page'])\n",
    "data_films.head()"
   ]
  },
  {
   "cell_type": "code",
   "execution_count": 13,
   "metadata": {},
   "outputs": [],
   "source": [
    "import spacy \n",
    "# Load the spaCy English model\n",
    "nlp = spacy.load(\"en_core_web_sm\")\n",
    "import os"
   ]
  },
  {
   "cell_type": "code",
   "execution_count": 14,
   "metadata": {},
   "outputs": [
    {
     "data": {
      "text/html": [
       "<div>\n",
       "<style scoped>\n",
       "    .dataframe tbody tr th:only-of-type {\n",
       "        vertical-align: middle;\n",
       "    }\n",
       "\n",
       "    .dataframe tbody tr th {\n",
       "        vertical-align: top;\n",
       "    }\n",
       "\n",
       "    .dataframe thead th {\n",
       "        text-align: right;\n",
       "    }\n",
       "</style>\n",
       "<table border=\"1\" class=\"dataframe\">\n",
       "  <thead>\n",
       "    <tr style=\"text-align: right;\">\n",
       "      <th></th>\n",
       "      <th>Title</th>\n",
       "      <th>Plot</th>\n",
       "      <th>clean_plot</th>\n",
       "    </tr>\n",
       "  </thead>\n",
       "  <tbody>\n",
       "    <tr>\n",
       "      <th>0</th>\n",
       "      <td>Kansas Saloon Smashers</td>\n",
       "      <td>A bartender is working at a saloon, serving drinks to customers. After he fills a stereotypically Irish man's bucket with beer, Carrie Nation and her followers burst inside. They assault the Irish man, pulling his hat over his eyes and then dumping the beer over his head. The group then begin wrecking the bar, smashing the fixtures, mirrors, and breaking the cash register. The bartender then sprays seltzer water in Nation's face before a group of policemen appear and order everybody to leave.[1]</td>\n",
       "      <td>['bartender', 'work', 'saloon', 'serve', 'drink', 'customer', 'fill', 'stereotypically', 'irish', 'man', 'bucket', 'beer', 'Carrie', 'Nation', 'follower', 'burst', 'inside', 'assault', 'irish', 'man', 'pull', 'hat', 'eye', 'dump', 'beer', 'head', 'group', 'begin', 'wreck', 'bar', 'smash', 'fixture', 'mirror', 'break', 'cash', 'register', 'bartender', 'spray', 'seltzer', 'water', 'Nation', 'face', 'group', 'policeman', 'appear', 'order', 'everybody']</td>\n",
       "    </tr>\n",
       "    <tr>\n",
       "      <th>1</th>\n",
       "      <td>Love by the Light of the Moon</td>\n",
       "      <td>The moon, painted with a smiling face hangs over a park at night. A young couple walking past a fence learn on a railing and look up. The moon smiles. They embrace, and the moon's smile gets bigger. They then sit down on a bench by a tree. The moon's view is blocked, causing him to frown. In the last scene, the man fans the woman with his hat because the moon has left the sky and is perched over her shoulder to see everything better.</td>\n",
       "      <td>['moon', 'paint', 'smile', 'face', 'hang', 'park', 'night', 'young', 'couple', 'walk', 'past', 'fence', 'learn', 'railing', 'look', 'moon', 'smile', 'embrace', 'moon', 'smile', 'get', 'big', 'sit', 'bench', 'tree', 'moon', 'view', 'block', 'cause', 'frown', 'scene', 'man', 'fan', 'woman', 'hat', 'moon', 'leave', 'sky', 'perch', 'shoulder', 'well']</td>\n",
       "    </tr>\n",
       "    <tr>\n",
       "      <th>2</th>\n",
       "      <td>The Martyred Presidents</td>\n",
       "      <td>The film, just over a minute long, is composed of two shots. In the first, a girl sits at the base of an altar or tomb, her face hidden from the camera. At the center of the altar, a viewing portal displays the portraits of three U.S. Presidents—Abraham Lincoln, James A. Garfield, and William McKinley—each victims of assassination.\\r\\nIn the second shot, which runs just over eight seconds long, an assassin kneels feet of Lady Justice.</td>\n",
       "      <td>['film', 'minute', 'long', 'compose', 'shot', 'girl', 'sit', 'base', 'altar', 'tomb', 'face', 'hide', 'camera', 'center', 'altar', 'view', 'portal', 'display', 'portrait', 'president', 'Abraham', 'Lincoln', 'James', 'Garfield', 'William', 'McKinley', 'victim', 'assassination', 'second', 'shot', 'run', 'second', 'long', 'assassin', 'kneel', 'foot', 'Lady', 'Justice']</td>\n",
       "    </tr>\n",
       "    <tr>\n",
       "      <th>3</th>\n",
       "      <td>Terrible Teddy, the Grizzly King</td>\n",
       "      <td>Lasting just 61 seconds and consisting of two shots, the first shot is set in a wood during winter. The actor representing then vice-president Theodore Roosevelt enthusiastically hurries down a hillside towards a tree in the foreground. He falls once, but rights himself and cocks his rifle. Two other men, bearing signs reading \"His Photographer\" and \"His Press Agent\" respectively, follow him into the shot; the photographer sets up his camera. \"Teddy\" aims his rifle upward at the tree and fells what appears to be a common house cat, which he then proceeds to stab. \"Teddy\" holds his prize aloft, and the press agent takes notes. The second shot is taken in a slightly different part of the wood, on a path. \"Teddy\" rides the path on his horse towards the camera and out to the left of the shot, followed closely by the press agent and photographer, still dutifully holding their signs.</td>\n",
       "      <td>['last', 'second', 'consist', 'shot', 'shot', 'set', 'wood', 'winter', 'actor', 'represent', 'vice', 'president', 'Theodore', 'Roosevelt', 'enthusiastically', 'hurry', 'hillside', 'tree', 'foreground', 'fall', 'right', 'cock', 'rifle', 'man', 'bear', 'sign', 'read', 'photographer', 'Press', 'Agent', 'respectively', 'follow', 'shot', 'photographer', 'set', 'camera', 'Teddy', 'aim', 'rifle', 'upward', 'tree', 'fell', 'appear', 'common', 'house', 'cat', 'proceed', 'stab', 'Teddy', 'hold', 'prize', 'aloft', 'press', 'agent', 'take', 'note', 'second', 'shot', 'take', 'slightly', 'different', 'wood', 'path', 'Teddy', 'ride', 'path', 'horse', 'camera', 'left', 'shot', 'follow', 'closely', 'press', 'agent', 'photographer', 'dutifully', 'hold', 'sign']</td>\n",
       "    </tr>\n",
       "    <tr>\n",
       "      <th>4</th>\n",
       "      <td>Jack and the Beanstalk</td>\n",
       "      <td>The earliest known adaptation of the classic fairytale, this films shows Jack trading his cow for the beans, his mother forcing him to drop them in the front yard, and beig forced upstairs. As he sleeps, Jack is visited by a fairy who shows him glimpses of what will await him when he ascends the bean stalk. In this version, Jack is the son of a deposed king. When Jack wakes up, he finds the beanstalk has grown and he climbs to the top where he enters the giant's home. The giant finds Jack, who narrowly escapes. The giant chases Jack down the bean stalk, but Jack is able to cut it down before the giant can get to safety. He falls and is killed as Jack celebrates. The fairy then reveals that Jack may return home as a prince.</td>\n",
       "      <td>['early', 'know', 'adaptation', 'classic', 'fairytale', 'film', 'show', 'Jack', 'trade', 'cow', 'bean', 'mother', 'force', 'drop', 'yard', 'beig', 'force', 'upstairs', 'sleep', 'Jack', 'visit', 'fairy', 'show', 'glimpse', 'await', 'ascend', 'bean', 'stalk', 'version', 'Jack', 'son', 'deposed', 'king', 'Jack', 'wake', 'find', 'beanstalk', 'grow', 'climb', 'enter', 'giant', 'home', 'giant', 'find', 'Jack', 'narrowly', 'escape', 'giant', 'chase', 'Jack', 'bean', 'stalk', 'Jack', 'able', 'cut', 'giant', 'safety', 'fall', 'kill', 'Jack', 'celebrate', 'fairy', 'reveal', 'Jack', 'return', 'home', 'prince']</td>\n",
       "    </tr>\n",
       "  </tbody>\n",
       "</table>\n",
       "</div>"
      ],
      "text/plain": [
       "                              Title  \\\n",
       "0            Kansas Saloon Smashers   \n",
       "1     Love by the Light of the Moon   \n",
       "2           The Martyred Presidents   \n",
       "3  Terrible Teddy, the Grizzly King   \n",
       "4            Jack and the Beanstalk   \n",
       "\n",
       "                                                                                                                                                                                                                                                                                                                                                                                                                                                                                                                                                                                                                                                                                                                                                                                                                                                                                                                         Plot  \\\n",
       "0                                                                                                                                                                                                                                                                                                                                                                                                        A bartender is working at a saloon, serving drinks to customers. After he fills a stereotypically Irish man's bucket with beer, Carrie Nation and her followers burst inside. They assault the Irish man, pulling his hat over his eyes and then dumping the beer over his head. The group then begin wrecking the bar, smashing the fixtures, mirrors, and breaking the cash register. The bartender then sprays seltzer water in Nation's face before a group of policemen appear and order everybody to leave.[1]   \n",
       "1                                                                                                                                                                                                                                                                                                                                                                                                                                                                       The moon, painted with a smiling face hangs over a park at night. A young couple walking past a fence learn on a railing and look up. The moon smiles. They embrace, and the moon's smile gets bigger. They then sit down on a bench by a tree. The moon's view is blocked, causing him to frown. In the last scene, the man fans the woman with his hat because the moon has left the sky and is perched over her shoulder to see everything better.   \n",
       "2                                                                                                                                                                                                                                                                                                                                                                                                                                                                      The film, just over a minute long, is composed of two shots. In the first, a girl sits at the base of an altar or tomb, her face hidden from the camera. At the center of the altar, a viewing portal displays the portraits of three U.S. Presidents—Abraham Lincoln, James A. Garfield, and William McKinley—each victims of assassination.\\r\\nIn the second shot, which runs just over eight seconds long, an assassin kneels feet of Lady Justice.   \n",
       "3  Lasting just 61 seconds and consisting of two shots, the first shot is set in a wood during winter. The actor representing then vice-president Theodore Roosevelt enthusiastically hurries down a hillside towards a tree in the foreground. He falls once, but rights himself and cocks his rifle. Two other men, bearing signs reading \"His Photographer\" and \"His Press Agent\" respectively, follow him into the shot; the photographer sets up his camera. \"Teddy\" aims his rifle upward at the tree and fells what appears to be a common house cat, which he then proceeds to stab. \"Teddy\" holds his prize aloft, and the press agent takes notes. The second shot is taken in a slightly different part of the wood, on a path. \"Teddy\" rides the path on his horse towards the camera and out to the left of the shot, followed closely by the press agent and photographer, still dutifully holding their signs.   \n",
       "4                                                                                                                                                                The earliest known adaptation of the classic fairytale, this films shows Jack trading his cow for the beans, his mother forcing him to drop them in the front yard, and beig forced upstairs. As he sleeps, Jack is visited by a fairy who shows him glimpses of what will await him when he ascends the bean stalk. In this version, Jack is the son of a deposed king. When Jack wakes up, he finds the beanstalk has grown and he climbs to the top where he enters the giant's home. The giant finds Jack, who narrowly escapes. The giant chases Jack down the bean stalk, but Jack is able to cut it down before the giant can get to safety. He falls and is killed as Jack celebrates. The fairy then reveals that Jack may return home as a prince.   \n",
       "\n",
       "                                                                                                                                                                                                                                                                                                                                                                                                                                                                                                                                                                                                                                                                                                                                                                          clean_plot  \n",
       "0                                                                                                                                                                                                                                                                                                              ['bartender', 'work', 'saloon', 'serve', 'drink', 'customer', 'fill', 'stereotypically', 'irish', 'man', 'bucket', 'beer', 'Carrie', 'Nation', 'follower', 'burst', 'inside', 'assault', 'irish', 'man', 'pull', 'hat', 'eye', 'dump', 'beer', 'head', 'group', 'begin', 'wreck', 'bar', 'smash', 'fixture', 'mirror', 'break', 'cash', 'register', 'bartender', 'spray', 'seltzer', 'water', 'Nation', 'face', 'group', 'policeman', 'appear', 'order', 'everybody']  \n",
       "1                                                                                                                                                                                                                                                                                                                                                                                                                      ['moon', 'paint', 'smile', 'face', 'hang', 'park', 'night', 'young', 'couple', 'walk', 'past', 'fence', 'learn', 'railing', 'look', 'moon', 'smile', 'embrace', 'moon', 'smile', 'get', 'big', 'sit', 'bench', 'tree', 'moon', 'view', 'block', 'cause', 'frown', 'scene', 'man', 'fan', 'woman', 'hat', 'moon', 'leave', 'sky', 'perch', 'shoulder', 'well']  \n",
       "2                                                                                                                                                                                                                                                                                                                                                                                                   ['film', 'minute', 'long', 'compose', 'shot', 'girl', 'sit', 'base', 'altar', 'tomb', 'face', 'hide', 'camera', 'center', 'altar', 'view', 'portal', 'display', 'portrait', 'president', 'Abraham', 'Lincoln', 'James', 'Garfield', 'William', 'McKinley', 'victim', 'assassination', 'second', 'shot', 'run', 'second', 'long', 'assassin', 'kneel', 'foot', 'Lady', 'Justice']  \n",
       "3  ['last', 'second', 'consist', 'shot', 'shot', 'set', 'wood', 'winter', 'actor', 'represent', 'vice', 'president', 'Theodore', 'Roosevelt', 'enthusiastically', 'hurry', 'hillside', 'tree', 'foreground', 'fall', 'right', 'cock', 'rifle', 'man', 'bear', 'sign', 'read', 'photographer', 'Press', 'Agent', 'respectively', 'follow', 'shot', 'photographer', 'set', 'camera', 'Teddy', 'aim', 'rifle', 'upward', 'tree', 'fell', 'appear', 'common', 'house', 'cat', 'proceed', 'stab', 'Teddy', 'hold', 'prize', 'aloft', 'press', 'agent', 'take', 'note', 'second', 'shot', 'take', 'slightly', 'different', 'wood', 'path', 'Teddy', 'ride', 'path', 'horse', 'camera', 'left', 'shot', 'follow', 'closely', 'press', 'agent', 'photographer', 'dutifully', 'hold', 'sign']  \n",
       "4                                                                                                                                                     ['early', 'know', 'adaptation', 'classic', 'fairytale', 'film', 'show', 'Jack', 'trade', 'cow', 'bean', 'mother', 'force', 'drop', 'yard', 'beig', 'force', 'upstairs', 'sleep', 'Jack', 'visit', 'fairy', 'show', 'glimpse', 'await', 'ascend', 'bean', 'stalk', 'version', 'Jack', 'son', 'deposed', 'king', 'Jack', 'wake', 'find', 'beanstalk', 'grow', 'climb', 'enter', 'giant', 'home', 'giant', 'find', 'Jack', 'narrowly', 'escape', 'giant', 'chase', 'Jack', 'bean', 'stalk', 'Jack', 'able', 'cut', 'giant', 'safety', 'fall', 'kill', 'Jack', 'celebrate', 'fairy', 'reveal', 'Jack', 'return', 'home', 'prince']  "
      ]
     },
     "execution_count": 14,
     "metadata": {},
     "output_type": "execute_result"
    }
   ],
   "source": [
    "# Tokenización, stopwords y normalización\n",
    "def preprocess(text: str) -> list:\n",
    "    '''\n",
    "    En esta función preprocess(text), se utiliza Spacy para analizar el texto y generar un objeto doc, \n",
    "    que representa el texto analizado por Spacy. Luego, se itera sobre cada token en doc, y \n",
    "    se seleccionan solo aquellos tokens que no son stopwords (token.is_stop) y que son alfabéticos (token.is_alpha). \n",
    "    Finalmente, se extrae el lema de cada token (token.lemma_) y se almacenan en una lista tokens, \n",
    "    que se devuelve como el resultado de la función. Estos tokens son las palabras individuales del texto tokenizado.\n",
    "    Args:\n",
    "    text (str): El texto a tokenizar.\n",
    "    Returns:\n",
    "    list: Una lista de tokens del texto tokenizado.\n",
    "    '''\n",
    "    \n",
    "    doc = nlp(text)\n",
    "    tokens = [token.lemma_ for token in doc if not token.is_stop and token.is_alpha]\n",
    "    return tokens\n",
    "\n",
    "if not os.path.exists('movies_clean.csv'):\n",
    "    data_films['clean_plot'] = data_films['Plot'].apply(preprocess)\n",
    "    data_films.to_csv('movies_clean.csv', index=False)\n",
    "else:\n",
    "    print(\"El archivo ya existe.\")\n",
    "    \n",
    "data_films_clean = pd.read_csv(\"movies_clean.csv\")\n",
    "data_films_clean.head()"
   ]
  },
  {
   "cell_type": "markdown",
   "metadata": {},
   "source": [
    "## 2. **Representación vectorial del texto:**\n",
    "   - Explorar y seleccionar técnicas de representación de texto para convertir las sinopsis en vectores numéricos. Esto puede incluir enfoques como TF-IDF, Word2Vec, FastText o técnicas más avanzadas como BERT o modelos de lenguaje preentrenados (transformers).\n",
    "   - Realizar pruebas y comparaciones de diferentes técnicas de representación para identificar la que mejor captura la similitud semántica entre las sinopsis."
   ]
  },
  {
   "cell_type": "code",
   "execution_count": 15,
   "metadata": {},
   "outputs": [],
   "source": [
    "import gensim.downloader\n",
    "from gensim.models import Word2Vec\n",
    "\n",
    "#Entrenamiento del modelo\n",
    "model_w2v = Word2Vec(sentences=data_films['clean_plot'], vector_size=100, window=5, min_count=1, workers=4)"
   ]
  },
  {
   "cell_type": "code",
   "execution_count": 16,
   "metadata": {},
   "outputs": [],
   "source": [
    "import numpy as np\n",
    "\n",
    "# Representación de películas\n",
    "def get_movie_vector(tokens: list) -> list:\n",
    "    '''\n",
    "    Esta función toma una lista de tokens (palabras) como entrada y devuelve \n",
    "    una representación vectorial de la película basada en las palabras de la sinopsis.\n",
    "\n",
    "    Args:\n",
    "    tokens (list): lista de tokens (palabras) de la sinopsis de la película.\n",
    "    Return:\n",
    "    vector (list): representación vectorial de la película.\n",
    "    '''\n",
    "    vectors = [model_w2v.wv[token] for token in tokens if token in model_w2v.wv]\n",
    "    if vectors:\n",
    "        return np.mean(vectors, axis=0)\n",
    "    else:\n",
    "        return np.zeros(100)  # or any default vector if no tokens are found\n",
    "\n",
    "data_films_clean['vector'] = data_films_clean['clean_plot'].apply(get_movie_vector)"
   ]
  },
  {
   "cell_type": "markdown",
   "metadata": {},
   "source": [
    "## 3. **Medición de la similitud:**\n",
    "   - Implementar una métrica de similitud entre las sinopsis. Esto puede incluir el uso de distancia coseno, distancia Euclidiana, o métricas específicas para representaciones embebidas como la distancia entre embeddings de palabras o sentencias.\n",
    "   - Evaluar y ajustar las métricas de similitud para maximizar la precisión de las recomendaciones."
   ]
  },
  {
   "cell_type": "code",
   "execution_count": 28,
   "metadata": {},
   "outputs": [],
   "source": [
    "from sklearn.metrics.pairwise import cosine_similarity\n",
    "\n",
    "# Cálculo de similitud\n",
    "def get_cosine_similarity(movie_vector: list, query_vector: list) -> float:\n",
    "    '''\n",
    "    Esta función calcula la similitud entre la película y el resto de películas.\n",
    "    \n",
    "    Args:\n",
    "    movie_vector (list): Vector de características de la película.\n",
    "    qery_vector (list): Vector de características de la consulta.\n",
    "    Return:\n",
    "    float: Similitud entre la película y la consulta.\n",
    "    '''\n",
    "    return cosine_similarity([movie_vector], [query_vector])[0][0]"
   ]
  },
  {
   "cell_type": "markdown",
   "metadata": {},
   "source": [
    "## 4. **Desarrollo del sistema de recomendación:**\n",
    "   - Implementar el algoritmo de recomendación basado en la similitud de las sinopsis de las películas.\n",
    "   - Configurar el sistema para que, dado el título de una película, busque su sinopsis y encuentre las sinopsis más similares para recomendar películas afines.\n",
    "   - Determinar el número óptimo de recomendaciones a mostrar y establecer los criterios para ordenarlas."
   ]
  },
  {
   "cell_type": "code",
   "execution_count": 29,
   "metadata": {},
   "outputs": [],
   "source": [
    "# Recomendación\n",
    "def recommend_similar_movies(movie_title, top_n=10):\n",
    "    query_vector = data_films_clean[data_films_clean['Title'] == movie_title]['vector'].values[0]\n",
    "    data_films_clean['cosine_similarity'] = data_films_clean['vector'].apply(lambda x: get_cosine_similarity(x, query_vector))\n",
    "    similar_movies = data_films_clean.sort_values(by='similarity', ascending=False)['Title'].head(top_n+1)[1:]\n",
    "    return similar_movies"
   ]
  },
  {
   "cell_type": "markdown",
   "metadata": {},
   "source": [
    "\n",
    "## 5. **Evaluación del sistema de recomendación:**\n",
    "   - Hacer algunas comprobaciones manuales para ver que tal funciona el modelo."
   ]
  },
  {
   "cell_type": "code",
   "execution_count": 30,
   "metadata": {},
   "outputs": [
    {
     "name": "stdout",
     "output_type": "stream",
     "text": [
      "Recomendaciones para The Matrix :\n",
      "12995                       George of the Jungle\n",
      "21506    Night at the Museum: Secret of the Tomb\n",
      "16905    Night at the Museum: Secret of the Tomb\n",
      "16146                         X-Men: First Class\n",
      "21133                         X-Men: First Class\n",
      "14711                                 Madagascar\n",
      "12020                                 Leprechaun\n",
      "15475                Madagascar: Escape 2 Africa\n",
      "1324                        Island of Lost Souls\n",
      "22090                  Resident Evil: Apocalypse\n",
      "Name: Title, dtype: object\n"
     ]
    }
   ],
   "source": [
    "# Ejemplo de uso\n",
    "movie_title = \"The Matrix\"\n",
    "recommendations = recommend_similar_movies(movie_title)\n",
    "print(\"Recomendaciones para\", movie_title, \":\")\n",
    "print(recommendations)"
   ]
  },
  {
   "cell_type": "markdown",
   "metadata": {},
   "source": [
    "## **Conclusión**\n",
    "\n",
    "El sistema de recomendación de películas basado en sinopsis implementado en este proyecto ofrece una herramienta eficaz para sugerir películas similares, facilitando la exploración de contenidos relacionados. La combinación de técnicas de procesamiento de lenguaje natural y modelos de representación vectorial permite proporcionar recomendaciones que se alinean con la sinopsis de entrada.\n",
    "\n",
    "#### **Mejoras Posibles:**\n",
    "\n",
    "1. **Optimizar el Preprocesamiento**:\n",
    "   - **Eliminación de Ruido**: Refinar la lista de stopwords y técnicas de lematización para mejorar la precisión de la representación textual.\n",
    "\n",
    "2. **Explorar Otras Métricas de Similitud**:\n",
    "   - **Métricas Alternativas**: Investigar y probar otras métricas de similitud como la **distancia de Manhattan** o la **correlación de Pearson** para evaluar cuál ofrece mejores resultados en el contexto de recomendaciones de películas.\n",
    "\n"
   ]
  }
 ],
 "metadata": {
  "kernelspec": {
   "display_name": "Python 3",
   "language": "python",
   "name": "python3"
  },
  "language_info": {
   "codemirror_mode": {
    "name": "ipython",
    "version": 3
   },
   "file_extension": ".py",
   "mimetype": "text/x-python",
   "name": "python",
   "nbconvert_exporter": "python",
   "pygments_lexer": "ipython3",
   "version": "3.11.7"
  }
 },
 "nbformat": 4,
 "nbformat_minor": 2
}
