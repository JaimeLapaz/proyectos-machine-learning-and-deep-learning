{
 "cells": [
  {
   "cell_type": "markdown",
   "metadata": {},
   "source": [
    "# Planificación del proyecto\n",
    "\n",
    "Vamos a intentar predecir el valor real de la calidad del vino. \n",
    "\n",
    "El dataset a utilizar es el que aparece en la carpeta: [Wine Dataset](./Data_winequality-white.xlsx)\n",
    "\n",
    "Los objetivos a cumplir son los siguientes:\n",
    "- Construir una red neuronal utilizando PyTorch.\n",
    "- ¿Se predice bien la calidad del vino?"
   ]
  },
  {
   "cell_type": "code",
   "execution_count": 1,
   "metadata": {},
   "outputs": [],
   "source": [
    "import pandas as pd\n",
    "import numpy as np\n",
    "\n",
    "import matplotlib.pyplot as plt\n",
    "import seaborn as sns\n",
    "\n",
    "from sklearn.model_selection import train_test_split\n",
    "from sklearn.preprocessing import StandardScaler, MinMaxScaler\n",
    "from sklearn.metrics import mean_squared_error\n",
    "\n",
    "import torch\n",
    "from torch.utils.data import Dataset, DataLoader\n",
    "import torch.nn as nn\n",
    "\n",
    "import time\n",
    "rn_state = 42"
   ]
  },
  {
   "cell_type": "markdown",
   "metadata": {},
   "source": [
    "## 1. Lectura de datos y análisis básico.\n"
   ]
  },
  {
   "cell_type": "code",
   "execution_count": 4,
   "metadata": {},
   "outputs": [
    {
     "data": {
      "text/html": [
       "<div>\n",
       "<style scoped>\n",
       "    .dataframe tbody tr th:only-of-type {\n",
       "        vertical-align: middle;\n",
       "    }\n",
       "\n",
       "    .dataframe tbody tr th {\n",
       "        vertical-align: top;\n",
       "    }\n",
       "\n",
       "    .dataframe thead th {\n",
       "        text-align: right;\n",
       "    }\n",
       "</style>\n",
       "<table border=\"1\" class=\"dataframe\">\n",
       "  <thead>\n",
       "    <tr style=\"text-align: right;\">\n",
       "      <th></th>\n",
       "      <th>fixed acidity</th>\n",
       "      <th>volatile acidity</th>\n",
       "      <th>citric acid</th>\n",
       "      <th>residual sugar</th>\n",
       "      <th>chlorides</th>\n",
       "      <th>free sulfur dioxide</th>\n",
       "      <th>total sulfur dioxide</th>\n",
       "      <th>density</th>\n",
       "      <th>pH</th>\n",
       "      <th>sulphates</th>\n",
       "      <th>alcohol</th>\n",
       "      <th>quality</th>\n",
       "    </tr>\n",
       "  </thead>\n",
       "  <tbody>\n",
       "    <tr>\n",
       "      <th>0</th>\n",
       "      <td>7.0</td>\n",
       "      <td>0.27</td>\n",
       "      <td>0.36</td>\n",
       "      <td>20.7</td>\n",
       "      <td>0.045</td>\n",
       "      <td>45.0</td>\n",
       "      <td>170.0</td>\n",
       "      <td>1.0010</td>\n",
       "      <td>3.00</td>\n",
       "      <td>0.45</td>\n",
       "      <td>8.8</td>\n",
       "      <td>6</td>\n",
       "    </tr>\n",
       "    <tr>\n",
       "      <th>1</th>\n",
       "      <td>6.3</td>\n",
       "      <td>0.30</td>\n",
       "      <td>0.34</td>\n",
       "      <td>1.6</td>\n",
       "      <td>0.049</td>\n",
       "      <td>14.0</td>\n",
       "      <td>132.0</td>\n",
       "      <td>0.9940</td>\n",
       "      <td>3.30</td>\n",
       "      <td>0.49</td>\n",
       "      <td>9.5</td>\n",
       "      <td>6</td>\n",
       "    </tr>\n",
       "    <tr>\n",
       "      <th>2</th>\n",
       "      <td>8.1</td>\n",
       "      <td>0.28</td>\n",
       "      <td>0.40</td>\n",
       "      <td>6.9</td>\n",
       "      <td>0.050</td>\n",
       "      <td>30.0</td>\n",
       "      <td>97.0</td>\n",
       "      <td>0.9951</td>\n",
       "      <td>3.26</td>\n",
       "      <td>0.44</td>\n",
       "      <td>10.1</td>\n",
       "      <td>6</td>\n",
       "    </tr>\n",
       "    <tr>\n",
       "      <th>3</th>\n",
       "      <td>7.2</td>\n",
       "      <td>0.23</td>\n",
       "      <td>0.32</td>\n",
       "      <td>8.5</td>\n",
       "      <td>0.058</td>\n",
       "      <td>47.0</td>\n",
       "      <td>186.0</td>\n",
       "      <td>0.9956</td>\n",
       "      <td>3.19</td>\n",
       "      <td>0.40</td>\n",
       "      <td>9.9</td>\n",
       "      <td>6</td>\n",
       "    </tr>\n",
       "    <tr>\n",
       "      <th>4</th>\n",
       "      <td>7.2</td>\n",
       "      <td>0.23</td>\n",
       "      <td>0.32</td>\n",
       "      <td>8.5</td>\n",
       "      <td>0.058</td>\n",
       "      <td>47.0</td>\n",
       "      <td>186.0</td>\n",
       "      <td>0.9956</td>\n",
       "      <td>3.19</td>\n",
       "      <td>0.40</td>\n",
       "      <td>9.9</td>\n",
       "      <td>6</td>\n",
       "    </tr>\n",
       "  </tbody>\n",
       "</table>\n",
       "</div>"
      ],
      "text/plain": [
       "   fixed acidity  volatile acidity  citric acid  residual sugar  chlorides  \\\n",
       "0            7.0              0.27         0.36            20.7      0.045   \n",
       "1            6.3              0.30         0.34             1.6      0.049   \n",
       "2            8.1              0.28         0.40             6.9      0.050   \n",
       "3            7.2              0.23         0.32             8.5      0.058   \n",
       "4            7.2              0.23         0.32             8.5      0.058   \n",
       "\n",
       "   free sulfur dioxide  total sulfur dioxide  density    pH  sulphates  \\\n",
       "0                 45.0                 170.0   1.0010  3.00       0.45   \n",
       "1                 14.0                 132.0   0.9940  3.30       0.49   \n",
       "2                 30.0                  97.0   0.9951  3.26       0.44   \n",
       "3                 47.0                 186.0   0.9956  3.19       0.40   \n",
       "4                 47.0                 186.0   0.9956  3.19       0.40   \n",
       "\n",
       "   alcohol  quality  \n",
       "0      8.8        6  \n",
       "1      9.5        6  \n",
       "2     10.1        6  \n",
       "3      9.9        6  \n",
       "4      9.9        6  "
      ]
     },
     "execution_count": 4,
     "metadata": {},
     "output_type": "execute_result"
    }
   ],
   "source": [
    "# Cargar los datos\n",
    "df_wine = pd.read_excel('Data_winequality-white.xlsx')\n",
    "\n",
    "# Análisis básico\n",
    "df_wine.head()  # Primeras filas del dataset"
   ]
  },
  {
   "cell_type": "code",
   "execution_count": 5,
   "metadata": {},
   "outputs": [
    {
     "name": "stdout",
     "output_type": "stream",
     "text": [
      "Tipos de datos del dataset: \n",
      "fixed acidity           float64\n",
      "volatile acidity        float64\n",
      "citric acid             float64\n",
      "residual sugar          float64\n",
      "chlorides               float64\n",
      "free sulfur dioxide     float64\n",
      "total sulfur dioxide    float64\n",
      "density                 float64\n",
      "pH                      float64\n",
      "sulphates               float64\n",
      "alcohol                 float64\n",
      "quality                   int64\n",
      "dtype: object\n",
      "Valores de la variable quality: [6 5 7 8 4 3 9]\n"
     ]
    }
   ],
   "source": [
    "# Imprimir los tipos de datos\n",
    "print('Tipos de datos del dataset: ')\n",
    "print(df_wine.dtypes)\n",
    "print('Valores de la variable quality:', df_wine.quality.unique())"
   ]
  },
  {
   "cell_type": "code",
   "execution_count": 7,
   "metadata": {},
   "outputs": [
    {
     "data": {
      "text/plain": [
       "(4898, 12)"
      ]
     },
     "execution_count": 7,
     "metadata": {},
     "output_type": "execute_result"
    }
   ],
   "source": [
    "# Tamaño del dataset\n",
    "df_wine.shape"
   ]
  },
  {
   "cell_type": "code",
   "execution_count": 8,
   "metadata": {},
   "outputs": [
    {
     "data": {
      "text/plain": [
       "fixed acidity           0\n",
       "volatile acidity        0\n",
       "citric acid             0\n",
       "residual sugar          0\n",
       "chlorides               0\n",
       "free sulfur dioxide     0\n",
       "total sulfur dioxide    0\n",
       "density                 0\n",
       "pH                      0\n",
       "sulphates               0\n",
       "alcohol                 0\n",
       "quality                 0\n",
       "dtype: int64"
      ]
     },
     "execution_count": 8,
     "metadata": {},
     "output_type": "execute_result"
    }
   ],
   "source": [
    "# Buscamos si hay valores perdidos o no válidos\n",
    "df_wine.isna().sum()"
   ]
  },
  {
   "cell_type": "code",
   "execution_count": 9,
   "metadata": {},
   "outputs": [
    {
     "data": {
      "text/html": [
       "<div>\n",
       "<style scoped>\n",
       "    .dataframe tbody tr th:only-of-type {\n",
       "        vertical-align: middle;\n",
       "    }\n",
       "\n",
       "    .dataframe tbody tr th {\n",
       "        vertical-align: top;\n",
       "    }\n",
       "\n",
       "    .dataframe thead th {\n",
       "        text-align: right;\n",
       "    }\n",
       "</style>\n",
       "<table border=\"1\" class=\"dataframe\">\n",
       "  <thead>\n",
       "    <tr style=\"text-align: right;\">\n",
       "      <th></th>\n",
       "      <th>fixed acidity</th>\n",
       "      <th>volatile acidity</th>\n",
       "      <th>citric acid</th>\n",
       "      <th>residual sugar</th>\n",
       "      <th>chlorides</th>\n",
       "      <th>free sulfur dioxide</th>\n",
       "      <th>total sulfur dioxide</th>\n",
       "      <th>density</th>\n",
       "      <th>pH</th>\n",
       "      <th>sulphates</th>\n",
       "      <th>alcohol</th>\n",
       "      <th>quality</th>\n",
       "    </tr>\n",
       "  </thead>\n",
       "  <tbody>\n",
       "    <tr>\n",
       "      <th>count</th>\n",
       "      <td>4898.000000</td>\n",
       "      <td>4898.000000</td>\n",
       "      <td>4898.000000</td>\n",
       "      <td>4898.000000</td>\n",
       "      <td>4898.000000</td>\n",
       "      <td>4898.000000</td>\n",
       "      <td>4898.000000</td>\n",
       "      <td>4898.000000</td>\n",
       "      <td>4898.000000</td>\n",
       "      <td>4898.000000</td>\n",
       "      <td>4898.000000</td>\n",
       "      <td>4898.000000</td>\n",
       "    </tr>\n",
       "    <tr>\n",
       "      <th>mean</th>\n",
       "      <td>6.854788</td>\n",
       "      <td>0.278241</td>\n",
       "      <td>0.334192</td>\n",
       "      <td>6.391415</td>\n",
       "      <td>0.045772</td>\n",
       "      <td>35.308085</td>\n",
       "      <td>138.360657</td>\n",
       "      <td>0.994027</td>\n",
       "      <td>3.188267</td>\n",
       "      <td>0.489847</td>\n",
       "      <td>10.514267</td>\n",
       "      <td>5.877909</td>\n",
       "    </tr>\n",
       "    <tr>\n",
       "      <th>std</th>\n",
       "      <td>0.843868</td>\n",
       "      <td>0.100795</td>\n",
       "      <td>0.121020</td>\n",
       "      <td>5.072058</td>\n",
       "      <td>0.021848</td>\n",
       "      <td>17.007137</td>\n",
       "      <td>42.498065</td>\n",
       "      <td>0.002991</td>\n",
       "      <td>0.151001</td>\n",
       "      <td>0.114126</td>\n",
       "      <td>1.230621</td>\n",
       "      <td>0.885639</td>\n",
       "    </tr>\n",
       "    <tr>\n",
       "      <th>min</th>\n",
       "      <td>3.800000</td>\n",
       "      <td>0.080000</td>\n",
       "      <td>0.000000</td>\n",
       "      <td>0.600000</td>\n",
       "      <td>0.009000</td>\n",
       "      <td>2.000000</td>\n",
       "      <td>9.000000</td>\n",
       "      <td>0.987110</td>\n",
       "      <td>2.720000</td>\n",
       "      <td>0.220000</td>\n",
       "      <td>8.000000</td>\n",
       "      <td>3.000000</td>\n",
       "    </tr>\n",
       "    <tr>\n",
       "      <th>25%</th>\n",
       "      <td>6.300000</td>\n",
       "      <td>0.210000</td>\n",
       "      <td>0.270000</td>\n",
       "      <td>1.700000</td>\n",
       "      <td>0.036000</td>\n",
       "      <td>23.000000</td>\n",
       "      <td>108.000000</td>\n",
       "      <td>0.991723</td>\n",
       "      <td>3.090000</td>\n",
       "      <td>0.410000</td>\n",
       "      <td>9.500000</td>\n",
       "      <td>5.000000</td>\n",
       "    </tr>\n",
       "    <tr>\n",
       "      <th>50%</th>\n",
       "      <td>6.800000</td>\n",
       "      <td>0.260000</td>\n",
       "      <td>0.320000</td>\n",
       "      <td>5.200000</td>\n",
       "      <td>0.043000</td>\n",
       "      <td>34.000000</td>\n",
       "      <td>134.000000</td>\n",
       "      <td>0.993740</td>\n",
       "      <td>3.180000</td>\n",
       "      <td>0.470000</td>\n",
       "      <td>10.400000</td>\n",
       "      <td>6.000000</td>\n",
       "    </tr>\n",
       "    <tr>\n",
       "      <th>75%</th>\n",
       "      <td>7.300000</td>\n",
       "      <td>0.320000</td>\n",
       "      <td>0.390000</td>\n",
       "      <td>9.900000</td>\n",
       "      <td>0.050000</td>\n",
       "      <td>46.000000</td>\n",
       "      <td>167.000000</td>\n",
       "      <td>0.996100</td>\n",
       "      <td>3.280000</td>\n",
       "      <td>0.550000</td>\n",
       "      <td>11.400000</td>\n",
       "      <td>6.000000</td>\n",
       "    </tr>\n",
       "    <tr>\n",
       "      <th>max</th>\n",
       "      <td>14.200000</td>\n",
       "      <td>1.100000</td>\n",
       "      <td>1.660000</td>\n",
       "      <td>65.800000</td>\n",
       "      <td>0.346000</td>\n",
       "      <td>289.000000</td>\n",
       "      <td>440.000000</td>\n",
       "      <td>1.038980</td>\n",
       "      <td>3.820000</td>\n",
       "      <td>1.080000</td>\n",
       "      <td>14.200000</td>\n",
       "      <td>9.000000</td>\n",
       "    </tr>\n",
       "  </tbody>\n",
       "</table>\n",
       "</div>"
      ],
      "text/plain": [
       "       fixed acidity  volatile acidity  citric acid  residual sugar  \\\n",
       "count    4898.000000       4898.000000  4898.000000     4898.000000   \n",
       "mean        6.854788          0.278241     0.334192        6.391415   \n",
       "std         0.843868          0.100795     0.121020        5.072058   \n",
       "min         3.800000          0.080000     0.000000        0.600000   \n",
       "25%         6.300000          0.210000     0.270000        1.700000   \n",
       "50%         6.800000          0.260000     0.320000        5.200000   \n",
       "75%         7.300000          0.320000     0.390000        9.900000   \n",
       "max        14.200000          1.100000     1.660000       65.800000   \n",
       "\n",
       "         chlorides  free sulfur dioxide  total sulfur dioxide      density  \\\n",
       "count  4898.000000          4898.000000           4898.000000  4898.000000   \n",
       "mean      0.045772            35.308085            138.360657     0.994027   \n",
       "std       0.021848            17.007137             42.498065     0.002991   \n",
       "min       0.009000             2.000000              9.000000     0.987110   \n",
       "25%       0.036000            23.000000            108.000000     0.991723   \n",
       "50%       0.043000            34.000000            134.000000     0.993740   \n",
       "75%       0.050000            46.000000            167.000000     0.996100   \n",
       "max       0.346000           289.000000            440.000000     1.038980   \n",
       "\n",
       "                pH    sulphates      alcohol      quality  \n",
       "count  4898.000000  4898.000000  4898.000000  4898.000000  \n",
       "mean      3.188267     0.489847    10.514267     5.877909  \n",
       "std       0.151001     0.114126     1.230621     0.885639  \n",
       "min       2.720000     0.220000     8.000000     3.000000  \n",
       "25%       3.090000     0.410000     9.500000     5.000000  \n",
       "50%       3.180000     0.470000    10.400000     6.000000  \n",
       "75%       3.280000     0.550000    11.400000     6.000000  \n",
       "max       3.820000     1.080000    14.200000     9.000000  "
      ]
     },
     "execution_count": 9,
     "metadata": {},
     "output_type": "execute_result"
    }
   ],
   "source": [
    "# Vemos las principales métricas de las variables\n",
    "df_wine.describe()"
   ]
  },
  {
   "cell_type": "code",
   "execution_count": 10,
   "metadata": {},
   "outputs": [
    {
     "name": "stdout",
     "output_type": "stream",
     "text": [
      "Numero de casos y su distribucion en el dataset de entrenamiento:  {3: 20, 4: 163, 5: 1457, 6: 2198, 7: 880, 8: 175, 9: 5}\n"
     ]
    },
    {
     "data": {
      "image/png": "[encoded data removed]",
      "text/plain": [
       "<Figure size 640x480 with 1 Axes>"
      ]
     },
     "metadata": {},
     "output_type": "display_data"
    }
   ],
   "source": [
    "ax = sns.countplot(df_wine, x=\"quality\", label=\"Número de diagnósticos\") \n",
    "unique, counts = np.unique(df_wine['quality'], return_counts=True)\n",
    "print(\"Numero de casos y su distribucion en el dataset de entrenamiento: \", dict(zip(unique, counts)))"
   ]
  },
  {
   "cell_type": "markdown",
   "metadata": {},
   "source": [
    "## 2. Separación del conjunto de datos y estandarización de las variables.\n",
    "- Dividimos el conjunto de datos en tres subconjuntos: entrenamiento (65%), validación (20%) y prueba (15%). \n",
    "- Estandarizamos las variables de entrada (features) pero no la variable objetivo."
   ]
  },
  {
   "cell_type": "code",
   "execution_count": 11,
   "metadata": {},
   "outputs": [
    {
     "name": "stdout",
     "output_type": "stream",
     "text": [
      "x_train: (4163, 11)\n",
      "y_train: (4163,)\n",
      "x_test: (735, 11)\n",
      "y_test: (735,)\n"
     ]
    }
   ],
   "source": [
    "y = df_wine['quality'].copy()\n",
    "x = df_wine.drop('quality', axis=1)\n",
    "\n",
    "# Separamos el conjunto de datos en entrenamiento y prueba\n",
    "# Usamos 15% de los datos para el conjunto de test\n",
    "x_train, x_test, y_train, y_test = train_test_split(\n",
    "    x,\n",
    "    y,\n",
    "    test_size = 0.15,\n",
    "    shuffle=True,\n",
    "    random_state = rn_state\n",
    ")\n",
    "\n",
    "print('x_train:', x_train.shape)\n",
    "print('y_train:', y_train.shape)\n",
    "print('x_test:', x_test.shape)\n",
    "print('y_test:', y_test.shape)"
   ]
  },
  {
   "cell_type": "code",
   "execution_count": 12,
   "metadata": {},
   "outputs": [],
   "source": [
    "# Escalamos los datos usando StandarScaler\n",
    "sc = StandardScaler()\n",
    "# Realizamos el ajuste y transform sobre los datos de entrenamiento, pero solamente transformaamos los datos de prueba\n",
    "x_train = sc.fit_transform(x_train)\n",
    "x_test = sc.transform(x_test)"
   ]
  },
  {
   "cell_type": "code",
   "execution_count": 13,
   "metadata": {},
   "outputs": [
    {
     "name": "stdout",
     "output_type": "stream",
     "text": [
      "x_train: (3330, 11)\n",
      "y_train: (3330,)\n",
      "x_val: (833, 11)\n",
      "y_val: (833,)\n"
     ]
    }
   ],
   "source": [
    "# Separamos el conjunto de entrenamiento en conjuntos de entrenamiento y validación\n",
    "# Usamos 20% de estos datos para la validación\n",
    "x_train, x_val, y_train, y_val = train_test_split(\n",
    "    x_train, \n",
    "    y_train, \n",
    "    test_size=0.20, \n",
    "    shuffle=True, \n",
    "    random_state = rn_state\n",
    ")\n",
    "\n",
    "print('x_train:', x_train.shape)\n",
    "print('y_train:', y_train.shape)\n",
    "print('x_val:', x_val.shape)\n",
    "print('y_val:', y_val.shape)"
   ]
  },
  {
   "cell_type": "markdown",
   "metadata": {},
   "source": [
    "## 3. Creación de Datasets y DataLoaders en PyTorch\n",
    "- Convertimos los datos estandarizados en tensores de PyTorch.\n",
    "- Creamos los DataLoaders para facilitar el acceso por lotes a los datos."
   ]
  },
  {
   "cell_type": "code",
   "execution_count": 14,
   "metadata": {},
   "outputs": [],
   "source": [
    "# Dataset and DataLoader: define the function for the dataset\n",
    "class WineDataset(Dataset):\n",
    "    def __init__(self, x, y):\n",
    "        self.x = torch.tensor(x, dtype=torch.float32)\n",
    "        self.y = torch.tensor(np.array(y).astype(np.float32), dtype=torch.float32)\n",
    "    \n",
    "    def __len__(self):\n",
    "        # Devolver el número de ejemplos en el conjunto de datos\n",
    "        return self.x.shape[0]\n",
    "    \n",
    "    def __getitem__(self, idx):\n",
    "        # Devolver un ejemplo del dataset con la indice 'idx'\n",
    "        return self.x[idx], self.y[idx]"
   ]
  },
  {
   "cell_type": "code",
   "execution_count": 15,
   "metadata": {},
   "outputs": [],
   "source": [
    "train_dataset = WineDataset(x_train, y_train)\n",
    "val_dataset = WineDataset(x_val, y_val)# Crear el dataset para los datos de validación\n",
    "test_dataset = WineDataset(x_test, y_test)# Crear el dataset para los datos de validación"
   ]
  },
  {
   "cell_type": "code",
   "execution_count": 16,
   "metadata": {},
   "outputs": [],
   "source": [
    "batch_size = 128 # Especificar este hiperparametro\n",
    "\n",
    "train_dataloader = DataLoader(train_dataset, batch_size=batch_size, shuffle=True) \n",
    "val_dataloader = DataLoader(val_dataset, batch_size=batch_size, shuffle= False)# Crear el DataLoader para los datos de validación\n",
    "test_dataloader = DataLoader(test_dataset, batch_size=batch_size, shuffle=False)# Crear el DataLoader para los datos de prueba"
   ]
  },
  {
   "cell_type": "code",
   "execution_count": 17,
   "metadata": {},
   "outputs": [
    {
     "name": "stdout",
     "output_type": "stream",
     "text": [
      "número de batch : 0\n",
      "x_train en i_batch :  torch.Size([128, 11])\n",
      "y_train en i_batch : torch.Size([128])\n"
     ]
    }
   ],
   "source": [
    "# Vemos un batch de datos (un consiste en 32 ejemplos de datos)\n",
    "for i_batch, (x_train, y_train) in enumerate(train_dataloader):\n",
    "    print(\"número de batch :\", i_batch)\n",
    "    print(\"x_train en i_batch : \", x_train.size())\n",
    "    print(\"y_train en i_batch :\", y_train.size())\n",
    "    break"
   ]
  },
  {
   "cell_type": "markdown",
   "metadata": {},
   "source": [
    "## 4. Diseño del modelo\n",
    "Definimos un modelo simple de red neuronal con PyTorch."
   ]
  },
  {
   "cell_type": "code",
   "execution_count": 18,
   "metadata": {},
   "outputs": [],
   "source": [
    "class WineQualityModel(nn.Module):\n",
    "    def __init__(self, input_shape): # input_shape es el número de variables que vamos a usar para la predicción\n",
    "        super(WineQualityModel, self).__init__()\n",
    "        # Añadir las capas del modelo\n",
    "        self.fc1 = nn.Linear(input_shape, 7) \n",
    "        self.fc2 = nn.Linear(7, 4) \n",
    "        self.fc3 = nn.Linear(4, 1) \n",
    "     \n",
    "    def forward(self, x):\n",
    "        # Añadir los pasos a seguir en el forward pass\n",
    "        x = torch.relu(self.fc1(x))\n",
    "        x = torch.relu(self.fc2(x))\n",
    "        x = self.fc3(x)\n",
    "      \n",
    "        return x"
   ]
  },
  {
   "cell_type": "code",
   "execution_count": 19,
   "metadata": {},
   "outputs": [],
   "source": [
    "model = WineQualityModel(input_shape=x.shape[1])"
   ]
  },
  {
   "cell_type": "markdown",
   "metadata": {},
   "source": [
    "### 4.1. Hiperparámetros, funición de coste y optimizador\n",
    "- Definimos los hiperparámetros como el número de épocas y la tasa de aprendizaje.\n",
    "- Seleccionamos la función de error cuadrático medio (MSE) como la función de coste, ya que es adecuada para problemas de regresión.\n",
    "- Seleccionamos el optimizador, especificando la tasa de aprendizaje."
   ]
  },
  {
   "cell_type": "code",
   "execution_count": 20,
   "metadata": {},
   "outputs": [],
   "source": [
    "learning_rate = 0.001 # Especificar la tasa de aprendizaje\n",
    "epochs = 150# Especificar número de épocas\n",
    "\n",
    "optimizer = torch.optim.SGD(params=model.parameters(), lr=learning_rate)# Especificar el optimizador con la tasa de aprendizaje y parametros del modelo\n",
    "loss_fn = nn.MSELoss()# Especificar la función de coste"
   ]
  },
  {
   "cell_type": "markdown",
   "metadata": {},
   "source": [
    "### 4.2. Función de Entrenamiento y la funciión de Validación.\n",
    "- Creamos una función para entrenar el modelo.\n",
    "- Creamos una función para validar el modelo."
   ]
  },
  {
   "cell_type": "code",
   "execution_count": 22,
   "metadata": {},
   "outputs": [],
   "source": [
    "# Función de entrenamiento\n",
    "def train(model, train_dataloader, optimizer, loss_fn):\n",
    "    model.train()\n",
    "    epoch_loss = 0\n",
    "    for i_batch, (x_train, y_train) in enumerate(train_dataloader):\n",
    "        \n",
    "        # Pon a cero los gradientes para cada batch\n",
    "        optimizer.zero_grad()\n",
    "\n",
    "        # Calcula la salida (predicciones) del modelo para los ejemplos del batch\n",
    "        predicciones = model(x_train)\n",
    "        \n",
    "        # Calcula el coste (función de coste con los valores predichos y reales)\n",
    "        batch_loss = loss_fn(predicciones, y_train.reshape(-1,1))\n",
    "\n",
    "        # Calcula los gradientes\n",
    "        batch_loss.backward()\n",
    "        \n",
    "        # Ajuste los pesos\n",
    "        optimizer.step()\n",
    "\n",
    "        epoch_loss += batch_loss.item()\n",
    "    \n",
    "    loss_train = epoch_loss / i_batch\n",
    "    \n",
    "    return loss_train\n",
    "\n",
    "# Función de validación\n",
    "def evaluation(model, val_dataloader, loss_fn):\n",
    "    model.eval()\n",
    "    epoch_loss = 0\n",
    "    with torch.no_grad():\n",
    "\n",
    "        for i_batch, (x_val, y_val) in enumerate(val_dataloader):\n",
    "\n",
    "            # Calcula la salida (predicciones) del modelo para los ejemplos del batch\n",
    "            predicciones = model(x_val)\n",
    "\n",
    "            # Calcula el coste (función de coste con los valores reales y predichos)\n",
    "            batch_loss = loss_fn(predicciones, y_val.reshape(-1,1))\n",
    "            \n",
    "            epoch_loss += batch_loss.item()\n",
    "    \n",
    "    loss_val = epoch_loss / i_batch\n",
    "    \n",
    "    return loss_val"
   ]
  },
  {
   "cell_type": "markdown",
   "metadata": {},
   "source": [
    "### 4.3. Bucle de entrenamiento y validación.\n",
    "Entrenamos el modelo a través de múltiples épocas y validamos en cada época."
   ]
  },
  {
   "cell_type": "code",
   "execution_count": 23,
   "metadata": {},
   "outputs": [],
   "source": [
    "def training_evaluation_loop(epochs, model, train_dataloader, val_dataloader, optimizer, loss_fn):\n",
    "    # Empty loss and accuracy lists to track values\n",
    "    start = time.time()\n",
    "\n",
    "    loss_values_train = []\n",
    "    loss_values_val = []\n",
    "\n",
    "    for epoch in range(epochs):\n",
    "\n",
    "        # Llama la función para el entrenamiento \n",
    "        loss_train = train(model, train_dataloader, optimizer, loss_fn)\n",
    "        loss_values_train.append(loss_train)\n",
    "\n",
    "        # Llama la función para la evaluación\n",
    "        loss_val = evaluation(model, val_dataloader, loss_fn)\n",
    "        loss_values_val.append(loss_val)\n",
    "\n",
    "        # Imprime cada 10 épocas loss_train y loss_val\n",
    "        if epoch % 10 == 0:\n",
    "            print(f'Epoch: {epoch:4.0f} | Train Loss: {loss_train:.5f}, Validation Loss: {loss_val:.5f}')\n",
    "    \n",
    "    end = time.time()\n",
    "    total_time = end - start\n",
    "\n",
    "    print(f'Total training time: {total_time}')\n",
    "\n",
    "    return loss_values_train, loss_values_val"
   ]
  },
  {
   "cell_type": "markdown",
   "metadata": {},
   "source": [
    "### 4.5. Entrenamiento del modelo"
   ]
  },
  {
   "cell_type": "code",
   "execution_count": 24,
   "metadata": {},
   "outputs": [
    {
     "name": "stdout",
     "output_type": "stream",
     "text": [
      "Epoch:    0 | Train Loss: 31.32799, Validation Loss: 33.15028\n",
      "Epoch:   10 | Train Loss: 1.38780, Validation Loss: 1.48576\n",
      "Epoch:   20 | Train Loss: 0.78324, Validation Loss: 0.94562\n",
      "Epoch:   30 | Train Loss: 0.72982, Validation Loss: 0.82741\n",
      "Epoch:   40 | Train Loss: 0.64475, Validation Loss: 0.77635\n",
      "Epoch:   50 | Train Loss: 0.59708, Validation Loss: 0.75096\n",
      "Epoch:   60 | Train Loss: 0.59501, Validation Loss: 0.73488\n",
      "Epoch:   70 | Train Loss: 0.65792, Validation Loss: 0.72409\n",
      "Epoch:   80 | Train Loss: 0.59355, Validation Loss: 0.71411\n",
      "Epoch:   90 | Train Loss: 0.58101, Validation Loss: 0.70713\n",
      "Epoch:  100 | Train Loss: 0.63609, Validation Loss: 0.70234\n",
      "Epoch:  110 | Train Loss: 0.56568, Validation Loss: 0.69877\n",
      "Epoch:  120 | Train Loss: 0.56997, Validation Loss: 0.69550\n",
      "Epoch:  130 | Train Loss: 0.62074, Validation Loss: 0.69255\n",
      "Epoch:  140 | Train Loss: 0.59054, Validation Loss: 0.68969\n",
      "Total training time: 5.052717924118042\n"
     ]
    }
   ],
   "source": [
    "loss_values_train, loss_values_val = training_evaluation_loop(epochs, \n",
    "                                                            model, \n",
    "                                                            train_dataloader, \n",
    "                                                            val_dataloader, \n",
    "                                                            optimizer, \n",
    "                                                            loss_fn)"
   ]
  },
  {
   "cell_type": "markdown",
   "metadata": {},
   "source": [
    "### 4.5. Curva de aprendizaje\n",
    "Graficamos las pérdidas de entrenamiento y validación a lo largo de las épocas."
   ]
  },
  {
   "cell_type": "code",
   "execution_count": 26,
   "metadata": {},
   "outputs": [
    {
     "data": {
      "image/png": "[encoded data removed]",
      "text/plain": [
       "<Figure size 640x480 with 1 Axes>"
      ]
     },
     "metadata": {},
     "output_type": "display_data"
    }
   ],
   "source": [
    "plt.plot(list(range(epochs)), loss_values_train, label='Training Loss')\n",
    "plt.plot(list(range(epochs)), loss_values_val, label='Validation Loss')\n",
    "plt.title('Training & Validation Loss Curves')\n",
    "plt.ylabel('Loss')\n",
    "plt.xlabel('Epochs')\n",
    "plt.legend()\n",
    "plt.show()"
   ]
  },
  {
   "cell_type": "markdown",
   "metadata": {},
   "source": [
    "## 5. Predicciones y cálculo del error.\n",
    "Creamos una función para realizar predicciones en el conjunto de prueba y calcular el error."
   ]
  },
  {
   "cell_type": "code",
   "execution_count": 27,
   "metadata": {},
   "outputs": [],
   "source": [
    "def predictions(model, test_dataloader):\n",
    "    predictions = []\n",
    "    real_values = []\n",
    "\n",
    "    model.eval()\n",
    "    with torch.no_grad():\n",
    "        for x_test, y_test in test_dataloader: \n",
    "\n",
    "            # Calula la salida (predicciones) del modelo para los ejemplos del batch\n",
    "            outputs = model(x_test)\n",
    "            \n",
    "\n",
    "            predictions.append(outputs.detach().cpu().numpy())\n",
    "            real_values.append(y_test.detach().cpu().numpy())\n",
    "\n",
    "    predictions = np.vstack(predictions)\n",
    "    real_values = np.hstack(real_values)\n",
    "    \n",
    "    # Calcula la métrica para la regresión para ver el error entre los valores predichos y reales\n",
    "    mse = mean_squared_error(y_test, outputs)\n",
    "    # Imprima la métrica\n",
    "    print(\"Error Cuadrático Medio es:\", mse)\n",
    "\n",
    "    return predictions, real_values"
   ]
  },
  {
   "cell_type": "code",
   "execution_count": 28,
   "metadata": {},
   "outputs": [
    {
     "name": "stdout",
     "output_type": "stream",
     "text": [
      "Error Cuadrático Medio es: 0.7072158\n"
     ]
    },
    {
     "data": {
      "text/html": [
       "<div>\n",
       "<style scoped>\n",
       "    .dataframe tbody tr th:only-of-type {\n",
       "        vertical-align: middle;\n",
       "    }\n",
       "\n",
       "    .dataframe tbody tr th {\n",
       "        vertical-align: top;\n",
       "    }\n",
       "\n",
       "    .dataframe thead th {\n",
       "        text-align: right;\n",
       "    }\n",
       "</style>\n",
       "<table border=\"1\" class=\"dataframe\">\n",
       "  <thead>\n",
       "    <tr style=\"text-align: right;\">\n",
       "      <th></th>\n",
       "      <th>predictions</th>\n",
       "      <th>real_values</th>\n",
       "      <th>error</th>\n",
       "    </tr>\n",
       "  </thead>\n",
       "  <tbody>\n",
       "    <tr>\n",
       "      <th>0</th>\n",
       "      <td>5.955014</td>\n",
       "      <td>7.0</td>\n",
       "      <td>1.044986</td>\n",
       "    </tr>\n",
       "    <tr>\n",
       "      <th>1</th>\n",
       "      <td>6.610546</td>\n",
       "      <td>8.0</td>\n",
       "      <td>1.389454</td>\n",
       "    </tr>\n",
       "    <tr>\n",
       "      <th>2</th>\n",
       "      <td>6.443623</td>\n",
       "      <td>8.0</td>\n",
       "      <td>1.556377</td>\n",
       "    </tr>\n",
       "    <tr>\n",
       "      <th>3</th>\n",
       "      <td>5.555777</td>\n",
       "      <td>5.0</td>\n",
       "      <td>0.555777</td>\n",
       "    </tr>\n",
       "    <tr>\n",
       "      <th>4</th>\n",
       "      <td>6.206792</td>\n",
       "      <td>7.0</td>\n",
       "      <td>0.793208</td>\n",
       "    </tr>\n",
       "    <tr>\n",
       "      <th>...</th>\n",
       "      <td>...</td>\n",
       "      <td>...</td>\n",
       "      <td>...</td>\n",
       "    </tr>\n",
       "    <tr>\n",
       "      <th>730</th>\n",
       "      <td>5.223824</td>\n",
       "      <td>5.0</td>\n",
       "      <td>0.223824</td>\n",
       "    </tr>\n",
       "    <tr>\n",
       "      <th>731</th>\n",
       "      <td>5.637921</td>\n",
       "      <td>6.0</td>\n",
       "      <td>0.362079</td>\n",
       "    </tr>\n",
       "    <tr>\n",
       "      <th>732</th>\n",
       "      <td>6.736897</td>\n",
       "      <td>7.0</td>\n",
       "      <td>0.263103</td>\n",
       "    </tr>\n",
       "    <tr>\n",
       "      <th>733</th>\n",
       "      <td>6.146713</td>\n",
       "      <td>7.0</td>\n",
       "      <td>0.853287</td>\n",
       "    </tr>\n",
       "    <tr>\n",
       "      <th>734</th>\n",
       "      <td>5.443585</td>\n",
       "      <td>5.0</td>\n",
       "      <td>0.443585</td>\n",
       "    </tr>\n",
       "  </tbody>\n",
       "</table>\n",
       "<p>735 rows × 3 columns</p>\n",
       "</div>"
      ],
      "text/plain": [
       "     predictions  real_values     error\n",
       "0       5.955014          7.0  1.044986\n",
       "1       6.610546          8.0  1.389454\n",
       "2       6.443623          8.0  1.556377\n",
       "3       5.555777          5.0  0.555777\n",
       "4       6.206792          7.0  0.793208\n",
       "..           ...          ...       ...\n",
       "730     5.223824          5.0  0.223824\n",
       "731     5.637921          6.0  0.362079\n",
       "732     6.736897          7.0  0.263103\n",
       "733     6.146713          7.0  0.853287\n",
       "734     5.443585          5.0  0.443585\n",
       "\n",
       "[735 rows x 3 columns]"
      ]
     },
     "execution_count": 28,
     "metadata": {},
     "output_type": "execute_result"
    }
   ],
   "source": [
    "predictions, real_values = predictions(model, test_dataloader)\n",
    "preds_df = pd.DataFrame({'predictions': np.hstack(predictions), 'real_values': np.hstack(real_values)})\n",
    "preds_df['error'] = np.abs(preds_df.real_values - preds_df.predictions)\n",
    "preds_df"
   ]
  },
  {
   "cell_type": "markdown",
   "metadata": {},
   "source": [
    "## Conclusión\n",
    "\n",
    "Un Error Cuadrático Medio (MSE) de 0.7223624 indica que, en promedio, las predicciones del modelo difieren del valor real en aproximadamente 0.85 unidades de la escala de calidad del vino, ya que la raíz cuadrada del MSE nos da una idea de la magnitud del error promedio.\n",
    "\n",
    "### Interpretación del Resultado:\n",
    "- **Aceptable**: En muchos casos, un MSE por debajo de 1.0 puede considerarse razonable, especialmente si la escala de la variable objetivo (calidad del vino) tiene un rango limitado (3 a 9). En este contexto, un error medio de 0.85 es relativamente bajo.\n",
    "- **Mejorable**: Si el objetivo es lograr un modelo altamente preciso, se podría experimentar con diferentes arquitecturas de red, optimizadores, tasas de aprendizaje, o incluso aplicar técnicas de regularización para reducir el error.\n",
    "\n",
    "### ¿Las predicciones salen más o menos bien?\n",
    "Con un MSE de 0.72, el modelo tiene un desempeño aceptable, pero no perfecto. Esto sugiere que el modelo puede estar capturando la tendencia general en los datos, pero aún hay espacio para mejoras. Consideraciones para mejorar el rendimiento:\n",
    "- **Hiperparámetros**: Ajustar el número de capas, neuronas, o la tasa de aprendizaje.\n",
    "- **Regularización**: Añadir regularización L2 o dropout para evitar el sobreajuste.\n",
    "- **Más datos**: Si es posible, aumentar el tamaño del conjunto de datos para mejorar el entrenamiento del modelo.\n",
    "- **Ingeniería de características**: Revisar y mejorar la selección o transformación de características."
   ]
  }
 ],
 "metadata": {
  "kernelspec": {
   "display_name": "Python 3",
   "language": "python",
   "name": "python3"
  },
  "language_info": {
   "codemirror_mode": {
    "name": "ipython",
    "version": 3
   },
   "file_extension": ".py",
   "mimetype": "text/x-python",
   "name": "python",
   "nbconvert_exporter": "python",
   "pygments_lexer": "ipython3",
   "version": "3.11.7"
  }
 },
 "nbformat": 4,
 "nbformat_minor": 2
}
